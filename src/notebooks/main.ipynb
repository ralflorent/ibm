{
 "cells": [
  {
   "cell_type": "markdown",
   "metadata": {},
   "source": [
    "## Virtual Environment for Individual-Based Modeling\n",
    "\n",
    "This virtual environment is based on an Agent-Based Modeling system using some assumptions that are derived from previousobservations of waterbirds’ behaviors within some habitats in the tropics.\n",
    "\n",
    "Created on March 31, 2019 by Ralph Florent <r.florent@jacobs-university.de>"
   ]
  },
  {
   "cell_type": "code",
   "execution_count": 4,
   "metadata": {
    "scrolled": false
   },
   "outputs": [
    {
     "name": "stdout",
     "output_type": "stream",
     "text": [
      "Once deleted, variables cannot be recovered. Proceed (y/[n])? y\n",
      "The autoreload extension is already loaded. To reload it, use:\n",
      "  %reload_ext autoreload\n",
      "=> START: Running simulation for waterbirds ABM\n",
      "==> :) All habitats have been created successfully!\n"
     ]
    },
    {
     "ename": "KeyboardInterrupt",
     "evalue": "",
     "output_type": "error",
     "traceback": [
      "\u001b[0;31m---------------------------------------------------------------------------\u001b[0m",
      "\u001b[0;31mKeyboardInterrupt\u001b[0m                         Traceback (most recent call last)",
      "\u001b[0;32m<ipython-input-4-c52ad8dcbe48>\u001b[0m in \u001b[0;36m<module>\u001b[0;34m\u001b[0m\n\u001b[1;32m     61\u001b[0m \u001b[0;34m\u001b[0m\u001b[0m\n\u001b[1;32m     62\u001b[0m \u001b[0;31m# run application\u001b[0m\u001b[0;34m\u001b[0m\u001b[0;34m\u001b[0m\u001b[0;34m\u001b[0m\u001b[0m\n\u001b[0;32m---> 63\u001b[0;31m \u001b[0mapplication\u001b[0m\u001b[0;34m(\u001b[0m\u001b[0;34m)\u001b[0m\u001b[0;34m\u001b[0m\u001b[0;34m\u001b[0m\u001b[0m\n\u001b[0m\u001b[1;32m     64\u001b[0m \u001b[0;34m\u001b[0m\u001b[0m\n\u001b[1;32m     65\u001b[0m \u001b[0;31m# ==============================================================================\u001b[0m\u001b[0;34m\u001b[0m\u001b[0;34m\u001b[0m\u001b[0;34m\u001b[0m\u001b[0m\n",
      "\u001b[0;32m<ipython-input-4-c52ad8dcbe48>\u001b[0m in \u001b[0;36mapplication\u001b[0;34m()\u001b[0m\n\u001b[1;32m     46\u001b[0m      \u001b[0;31m# process for t times\u001b[0m\u001b[0;34m\u001b[0m\u001b[0;34m\u001b[0m\u001b[0;34m\u001b[0m\u001b[0m\n\u001b[1;32m     47\u001b[0m     \u001b[0mprint\u001b[0m\u001b[0;34m(\u001b[0m\u001b[0;34m'=> START: Running simulation for waterbirds ABM'\u001b[0m\u001b[0;34m)\u001b[0m\u001b[0;34m\u001b[0m\u001b[0;34m\u001b[0m\u001b[0m\n\u001b[0;32m---> 48\u001b[0;31m     \u001b[0mhabitats\u001b[0m\u001b[0;34m,\u001b[0m \u001b[0magents\u001b[0m \u001b[0;34m=\u001b[0m \u001b[0minitialize\u001b[0m\u001b[0;34m(\u001b[0m\u001b[0;34m)\u001b[0m\u001b[0;34m\u001b[0m\u001b[0;34m\u001b[0m\u001b[0m\n\u001b[0m\u001b[1;32m     49\u001b[0m     \u001b[0mobserve\u001b[0m\u001b[0;34m(\u001b[0m\u001b[0mhabitats\u001b[0m\u001b[0;34m,\u001b[0m \u001b[0magents\u001b[0m\u001b[0;34m,\u001b[0m \u001b[0mtime\u001b[0m\u001b[0;34m)\u001b[0m\u001b[0;34m\u001b[0m\u001b[0;34m\u001b[0m\u001b[0m\n\u001b[1;32m     50\u001b[0m \u001b[0;34m\u001b[0m\u001b[0m\n",
      "\u001b[0;32m~/Perso/Storage/Education/JU/Semester II/Advanced Project I/IBM/src/notebooks/core.py\u001b[0m in \u001b[0;36minitialize\u001b[0;34m()\u001b[0m\n\u001b[1;32m    114\u001b[0m     \"\"\"\n\u001b[1;32m    115\u001b[0m     \u001b[0mhabitats\u001b[0m \u001b[0;34m=\u001b[0m \u001b[0mcreate_patches\u001b[0m\u001b[0;34m(\u001b[0m\u001b[0;34m)\u001b[0m\u001b[0;34m\u001b[0m\u001b[0;34m\u001b[0m\u001b[0m\n\u001b[0;32m--> 116\u001b[0;31m     \u001b[0mprint\u001b[0m\u001b[0;34m(\u001b[0m\u001b[0;34m'==> :) All habitats have been created successfully!'\u001b[0m\u001b[0;34m)\u001b[0m\u001b[0;34m\u001b[0m\u001b[0;34m\u001b[0m\u001b[0m\n\u001b[0m\u001b[1;32m    117\u001b[0m     \u001b[0magents\u001b[0m \u001b[0;34m=\u001b[0m \u001b[0mcreate_agents\u001b[0m\u001b[0;34m(\u001b[0m\u001b[0mhabitats\u001b[0m\u001b[0;34m)\u001b[0m\u001b[0;34m\u001b[0m\u001b[0;34m\u001b[0m\u001b[0m\n\u001b[1;32m    118\u001b[0m     \u001b[0mprint\u001b[0m\u001b[0;34m(\u001b[0m\u001b[0;34m'==> :) All agents have been created successfully!'\u001b[0m\u001b[0;34m)\u001b[0m\u001b[0;34m\u001b[0m\u001b[0;34m\u001b[0m\u001b[0m\n",
      "\u001b[0;32m~/Perso/Storage/Education/JU/Semester II/Advanced Project I/IBM/src/notebooks/core.py\u001b[0m in \u001b[0;36mcreate_agents\u001b[0;34m(habitats)\u001b[0m\n\u001b[1;32m     98\u001b[0m                     \u001b[0;32mbreak\u001b[0m\u001b[0;34m\u001b[0m\u001b[0;34m\u001b[0m\u001b[0m\n\u001b[1;32m     99\u001b[0m \u001b[0;34m\u001b[0m\u001b[0m\n\u001b[0;32m--> 100\u001b[0;31m         \u001b[0;32mfor\u001b[0m \u001b[0mi\u001b[0m \u001b[0;32min\u001b[0m \u001b[0mrange\u001b[0m\u001b[0;34m(\u001b[0m\u001b[0mag_cnf\u001b[0m\u001b[0;34m[\u001b[0m\u001b[0;34m'quantity'\u001b[0m\u001b[0;34m]\u001b[0m\u001b[0;34m)\u001b[0m\u001b[0;34m:\u001b[0m\u001b[0;34m\u001b[0m\u001b[0;34m\u001b[0m\u001b[0m\n\u001b[0m\u001b[1;32m    101\u001b[0m             \u001b[0mx\u001b[0m\u001b[0;34m,\u001b[0m \u001b[0my\u001b[0m \u001b[0;34m=\u001b[0m \u001b[0mgen_rand_point\u001b[0m\u001b[0;34m(\u001b[0m\u001b[0mrestricted_habs\u001b[0m\u001b[0;34m,\u001b[0m \u001b[0;34m'in'\u001b[0m\u001b[0;34m)\u001b[0m\u001b[0;34m\u001b[0m\u001b[0;34m\u001b[0m\u001b[0m\n\u001b[1;32m    102\u001b[0m             \u001b[0mag\u001b[0m \u001b[0;34m=\u001b[0m \u001b[0mAgent\u001b[0m\u001b[0;34m(\u001b[0m\u001b[0mag_cnf\u001b[0m\u001b[0;34m[\u001b[0m\u001b[0;34m'type'\u001b[0m\u001b[0;34m]\u001b[0m\u001b[0;34m,\u001b[0m \u001b[0mx\u001b[0m\u001b[0;34m,\u001b[0m \u001b[0my\u001b[0m\u001b[0;34m)\u001b[0m\u001b[0;34m\u001b[0m\u001b[0;34m\u001b[0m\u001b[0m\n",
      "\u001b[0;32m~/Perso/Storage/Education/JU/Semester II/Advanced Project I/IBM/src/notebooks/helpers.py\u001b[0m in \u001b[0;36mgen_rand_point\u001b[0;34m(habitats, option)\u001b[0m\n\u001b[1;32m     80\u001b[0m             \u001b[0;32mbreak\u001b[0m\u001b[0;34m\u001b[0m\u001b[0;34m\u001b[0m\u001b[0m\n\u001b[1;32m     81\u001b[0m \u001b[0;34m\u001b[0m\u001b[0m\n\u001b[0;32m---> 82\u001b[0;31m         \u001b[0mx\u001b[0m\u001b[0;34m,\u001b[0m \u001b[0my\u001b[0m \u001b[0;34m=\u001b[0m \u001b[0mnp\u001b[0m\u001b[0;34m.\u001b[0m\u001b[0mrandom\u001b[0m\u001b[0;34m.\u001b[0m\u001b[0mrand\u001b[0m\u001b[0;34m(\u001b[0m\u001b[0;36m2\u001b[0m\u001b[0;34m)\u001b[0m \u001b[0;31m# update point(x, y)\u001b[0m\u001b[0;34m\u001b[0m\u001b[0;34m\u001b[0m\u001b[0m\n\u001b[0m\u001b[1;32m     83\u001b[0m \u001b[0;34m\u001b[0m\u001b[0m\n\u001b[1;32m     84\u001b[0m     \u001b[0;32mreturn\u001b[0m \u001b[0;34m(\u001b[0m\u001b[0mx\u001b[0m\u001b[0;34m,\u001b[0m \u001b[0my\u001b[0m\u001b[0;34m)\u001b[0m\u001b[0;34m\u001b[0m\u001b[0;34m\u001b[0m\u001b[0m\n",
      "\u001b[0;31mKeyboardInterrupt\u001b[0m: "
     ]
    }
   ],
   "source": [
    "# Virtual Environment for Individual-Based Modeling (IBM)\n",
    "#\n",
    "# Created on March 31, 2019\n",
    "#\n",
    "# Authors:\n",
    "#   Ralph Florent <r.florent@jacobs-university.de>\n",
    "#   Davi Tavares <davi.tavares@leibniz-zmt.de>\n",
    "#   Agostino Merico <a.merico@jacobs-university.de>\n",
    "#\n",
    "# Main entry point for the application\n",
    "\n",
    "# ==============================================================================\n",
    "# START: Preamble\n",
    "# ==============================================================================\n",
    "%reset\n",
    "\n",
    "# -*- coding: utf-8 -*-\n",
    "import config\n",
    "import constants as CONST\n",
    "from core import initialize, observe, update\n",
    "from helpers import plot_figure, make_gif\n",
    "\n",
    "# see http://stackoverflow.com/questions/1907993/autoreload-of-modules-in-ipython\n",
    "# reload external python modules\n",
    "%load_ext autoreload\n",
    "%autoreload 2\n",
    "%reload_ext autoreload\n",
    "\n",
    "\n",
    "# ==============================================================================\n",
    "# END: Preamble\n",
    "# ==============================================================================\n",
    "\n",
    "# ==============================================================================\n",
    "# START: Application\n",
    "# ==============================================================================\n",
    "\n",
    "# main entry point for the application\n",
    "# TODO: proper docs\n",
    "def application():\n",
    "    \n",
    "    # pre-conditions\n",
    "    config.init() # initialize internal config for the app\n",
    "    time = 0 # define stopwatch for the process\n",
    "    \n",
    "     # process for t times\n",
    "    print('=> START: Running simulation for waterbirds ABM')\n",
    "    habitats, agents = initialize()\n",
    "    observe(habitats, agents, time)\n",
    "    \n",
    "    for time in range(1, CONST.PROCESSING_TIME):\n",
    "        agents = update(habitats, agents, time) # override agents when being updated\n",
    "        observe(habitats, agents, time)\n",
    "    \n",
    "    print('=> END: Running simulation for waterbirds ABM')\n",
    "    \n",
    "    # post-conditions\n",
    "    make_gif(CONST.SAMPLE_DIR, 'image.gif', CONST.STORE['images'])\n",
    "    plot_figure()\n",
    "\n",
    "    \n",
    "# run application\n",
    "application()\n",
    "\n",
    "# ==============================================================================\n",
    "# END: Application\n",
    "# =============================================================================="
   ]
  },
  {
   "cell_type": "code",
   "execution_count": 10,
   "metadata": {},
   "outputs": [
    {
     "name": "stdout",
     "output_type": "stream",
     "text": [
      "Once deleted, variables cannot be recovered. Proceed (y/[n])? y\n",
      "The autoreload extension is already loaded. To reload it, use:\n",
      "  %reload_ext autoreload\n",
      "=> START: Running simulation for waterbirds ABM\n"
     ]
    },
    {
     "data": {
      "image/png": "[encoded data removed]",
      "text/plain": [
       "<Figure size 432x288 with 1 Axes>"
      ]
     },
     "metadata": {
      "needs_background": "light"
     },
     "output_type": "display_data"
    }
   ],
   "source": [
    "%reset\n",
    "\n",
    "# -*- coding: utf-8 -*-\n",
    "import config\n",
    "import constants as C\n",
    "from core import initialize, observe, update, create_patches\n",
    "from helpers import plot_figure, make_gif\n",
    "import matplotlib.pyplot as plt\n",
    "import copy as cp\n",
    "import os\n",
    "\n",
    "# see http://stackoverflow.com/questions/1907993/autoreload-of-modules-in-ipython\n",
    "# reload external python modules\n",
    "%load_ext autoreload\n",
    "%autoreload 2\n",
    "%reload_ext autoreload\n",
    "\n",
    "# pre-conditions\n",
    "config.init() # initialize internal config for the app\n",
    "time = 0 # define stopwatch for the process\n",
    "\n",
    " # process for t times\n",
    "print('=> START: Running simulation for waterbirds ABM')\n",
    "habitats = create_patches()\n",
    "counter = 1\n",
    "\n",
    "plt.cla()\n",
    "plt.rcParams['lines.linewidth'] = 1\n",
    "plt.rcParams['lines.markersize'] = 3\n",
    "plt.rcParams['legend.fontsize'] = 10\n",
    "fig = plt.figure(1)\n",
    "ax  = fig.add_subplot(111)\n",
    "leg_handlers = []\n",
    "\n",
    "# artists to display (with indicator)\n",
    "for h in habitats:\n",
    "    ax.add_patch( cp.copy(h.artist) )\n",
    "\n",
    "# group by agent's type: { '5cm': [...agents] }\n",
    "# grouped_agents = dict()\n",
    "# for ag in agents:\n",
    "#     if ag.type in grouped_agents:\n",
    "#         grouped_agents[ag.type].append(ag)\n",
    "#     else:\n",
    "#         grouped_agents[ag.type] = [ag]\n",
    "\n",
    "# for _type, g_ags in grouped_agents.items():\n",
    "#     points = [ag.get_point() for ag in g_ags] # get all points: [(x1, y1), (x2, y2), ...]\n",
    "#     x, y = list(zip(*points)) # unzip them: [(x1, x2, ...), (y1, y2, ...)]\n",
    "#     c = C.get_agentp(_type, 'color')\n",
    "#     l = C.get_agentp(_type, 'label')\n",
    "#     leg_handle, = ax.plot(x, y, 'o', mec=c,mfc=c, label=l)\n",
    "#     leg_handlers.append(leg_handle)\n",
    "\n",
    "# legends for the plot through handlers\n",
    "handler_artists = [h.artist for h in habitats[1:5]] # hard-coded order\n",
    "handler_artists.extend(leg_handlers)\n",
    "\n",
    "# additional settings for the plot\n",
    "ax.get_xaxis().set_visible(False)\n",
    "ax.get_yaxis().set_visible(False)\n",
    "plt.legend(handles=handler_artists, loc='upper left', bbox_to_anchor=(1.02, 1), borderaxespad=0.)\n",
    "plt.xlabel('Time ' + str(counter + 1))\n",
    "plt.title('Snapshot in time ' + str(counter + 1), fontsize=12) # Identify which image is plotted\n",
    "\n",
    "image_path = os.path.join(C.SAMPLE_DIR, str(counter + 1) + '.png')\n",
    "plt.savefig(image_path, bbox_inches='tight', pad_inches=0.1)\n",
    "plt.show()\n",
    "plt.close(fig)\n",
    "\n",
    "# store image for final gif\n",
    "# image = gm.imread(image_path)\n",
    "# C.STORE['images'].append(image) # FIXME: read it when necessary\n",
    "\n"
   ]
  },
  {
   "cell_type": "code",
   "execution_count": null,
   "metadata": {},
   "outputs": [],
   "source": []
  }
 ],
 "metadata": {
  "kernelspec": {
   "display_name": "Python 3",
   "language": "python",
   "name": "python3"
  },
  "language_info": {
   "codemirror_mode": {
    "name": "ipython",
    "version": 3
   },
   "file_extension": ".py",
   "mimetype": "text/x-python",
   "name": "python",
   "nbconvert_exporter": "python",
   "pygments_lexer": "ipython3",
   "version": "3.7.1"
  }
 },
 "nbformat": 4,
 "nbformat_minor": 2
}
