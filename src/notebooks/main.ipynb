{
 "cells": [
  {
   "cell_type": "markdown",
   "metadata": {},
   "source": [
    "## Virtual Environment for Individual-Based Modeling\n",
    "\n",
    "This virtual environment is based on an Agent-Based Modeling system using some assumptions that are derived from previousobservations of waterbirds’ behaviors within some habitats in the tropics.\n",
    "\n",
    "Created on March 31, 2019 by Ralph Florent <r.florent@jacobs-university.de>"
   ]
  },
  {
   "cell_type": "code",
   "execution_count": 3,
   "metadata": {
    "scrolled": false
   },
   "outputs": [
    {
     "name": "stdout",
     "output_type": "stream",
     "text": [
      "Once deleted, variables cannot be recovered. Proceed (y/[n])? y\n",
      "The autoreload extension is already loaded. To reload it, use:\n",
      "  %reload_ext autoreload\n",
      "=> START: Processing random movements based on prob dist\n",
      "--- snapshot stats: {'orange-sm': {'short-legged': 5, 'long-legged': 4}, 'orange-lg': {'short-legged': 15, 'long-legged': 8}, 'blue': {'short-legged': 0, 'long-legged': 6}, 'green': {'short-legged': 0, 'long-legged': 2}}\n",
      "--- process update: 1\n",
      "--- snapshot stats: {'orange-sm': {'short-legged': 5, 'long-legged': 8}, 'orange-lg': {'short-legged': 15, 'long-legged': 8}, 'blue': {'short-legged': 0, 'long-legged': 2}, 'green': {'short-legged': 0, 'long-legged': 2}}\n",
      "--- process update: 2\n",
      "--- snapshot stats: {'orange-sm': {'short-legged': 6, 'long-legged': 5}, 'orange-lg': {'short-legged': 14, 'long-legged': 11}, 'blue': {'short-legged': 0, 'long-legged': 0}, 'green': {'short-legged': 0, 'long-legged': 4}}\n",
      "--- process update: 3\n",
      "--- snapshot stats: {'orange-sm': {'short-legged': 9, 'long-legged': 7}, 'orange-lg': {'short-legged': 11, 'long-legged': 10}, 'blue': {'short-legged': 0, 'long-legged': 0}, 'green': {'short-legged': 0, 'long-legged': 3}}\n",
      "--- process update: 4\n",
      "--- snapshot stats: {'orange-sm': {'short-legged': 6, 'long-legged': 5}, 'orange-lg': {'short-legged': 14, 'long-legged': 10}, 'blue': {'short-legged': 0, 'long-legged': 0}, 'green': {'short-legged': 0, 'long-legged': 5}}\n",
      "--- process update: 5\n",
      "=> END: Processing random movements based on prob dist\n"
     ]
    }
   ],
   "source": [
    "# Virtual Environment for Individual-Based Modeling (IBM)\n",
    "#\n",
    "# Created on March 31, 2019\n",
    "#\n",
    "# Authors:\n",
    "#   Ralph Florent <r.florent@jacobs-university.de>\n",
    "#   Davi Tavares <davi.tavares@leibniz-zmt.de>\n",
    "#   Agostino Merico <a.merico@jacobs-university.de>\n",
    "#\n",
    "# Main entry point for the application\n",
    "\n",
    "# ==============================================================================\n",
    "# START: Preamble\n",
    "# ==============================================================================\n",
    "%reset\n",
    "\n",
    "# -*- coding: utf-8 -*-\n",
    "import config\n",
    "import constants as CONST\n",
    "from core import initialize, observe, update\n",
    "from helpers import plot_figure, make_gif\n",
    "\n",
    "# see http://stackoverflow.com/questions/1907993/autoreload-of-modules-in-ipython\n",
    "# reload external python modules\n",
    "%load_ext autoreload\n",
    "%autoreload 2\n",
    "%reload_ext autoreload\n",
    "\n",
    "\n",
    "# ==============================================================================\n",
    "# END: Preamble\n",
    "# ==============================================================================\n",
    "\n",
    "# ==============================================================================\n",
    "# START: Application\n",
    "# ==============================================================================\n",
    "\n",
    "# main entry point for the application\n",
    "# TODO: proper docs\n",
    "def application():\n",
    "    \n",
    "    # pre-conditions\n",
    "    config.init() # initialize internal config for the app\n",
    "    time = 0 # define stopwatch for the process\n",
    "    \n",
    "     # process for t times\n",
    "    print('=> START: Processing random movements based on prob dist')\n",
    "    habitats, agents = initialize()\n",
    "    observe(habitats, agents, time)\n",
    "    \n",
    "    for time in range(1, CONST.PROCESSING_TIME):\n",
    "        agents = update(habitats, agents, time) # override agents when being updated\n",
    "        observe(habitats, agents, time)\n",
    "    \n",
    "    print('=> END: Processing random movements based on prob dist')\n",
    "    \n",
    "    # post-conditions\n",
    "    make_gif(CONST.SAMPLE_DIR, 'image.gif', CONST.STORE['images'])\n",
    "    plot_figure()\n",
    "\n",
    "    \n",
    "# run application\n",
    "application()\n",
    "\n",
    "# ==============================================================================\n",
    "# END: Application\n",
    "# =============================================================================="
   ]
  }
 ],
 "metadata": {
  "kernelspec": {
   "display_name": "Python 3",
   "language": "python",
   "name": "python3"
  },
  "language_info": {
   "codemirror_mode": {
    "name": "ipython",
    "version": 3
   },
   "file_extension": ".py",
   "mimetype": "text/x-python",
   "name": "python",
   "nbconvert_exporter": "python",
   "pygments_lexer": "ipython3",
   "version": "3.7.1"
  }
 },
 "nbformat": 4,
 "nbformat_minor": 2
}
