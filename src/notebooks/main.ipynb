{
 "cells": [
  {
   "cell_type": "markdown",
   "metadata": {},
   "source": [
    "## Virtual Environment for Individual-Based Modeling\n",
    "\n",
    "This virtual environment is based on an Agent-Based Modeling system using some assumptions that are derived from previousobservations of waterbirds’ behaviors within some habitats in the tropics.\n",
    "\n",
    "Created on March 31, 2019 by Ralph Florent <r.florent@jacobs-university.de>"
   ]
  },
  {
   "cell_type": "code",
   "execution_count": 1,
   "metadata": {
    "scrolled": false
   },
   "outputs": [
    {
     "name": "stdout",
     "output_type": "stream",
     "text": [
      "The directory <../../graphs> has been created.\n",
      "=> START: Processing random movements based on prob dist\n",
      "--- process update: 1\n"
     ]
    },
    {
     "name": "stderr",
     "output_type": "stream",
     "text": [
      "/home/rflorent/anaconda3/lib/python3.7/site-packages/matplotlib/figure.py:98: MatplotlibDeprecationWarning: \n",
      "Adding an axes using the same arguments as a previous axes currently reuses the earlier instance.  In a future version, a new instance will always be created and returned.  Meanwhile, this warning can be suppressed, and the future behavior ensured, by passing a unique label to each axes instance.\n",
      "  \"Adding an axes using the same arguments as a previous axes \"\n"
     ]
    },
    {
     "name": "stdout",
     "output_type": "stream",
     "text": [
      "--- process update: 2\n",
      "--- process update: 3\n",
      "--- process update: 4\n",
      "--- process update: 5\n",
      "--- process update: 6\n",
      "--- process update: 7\n",
      "--- process update: 8\n",
      "--- process update: 9\n",
      "--- process update: 10\n",
      "=> END: Processing random movements based on prob dist\n"
     ]
    }
   ],
   "source": [
    "# Virtual Environment for Individual-Based Modeling (IBM)\n",
    "#\n",
    "# Created on March 31, 2019\n",
    "#\n",
    "# Authors:\n",
    "#   Ralph Florent <r.florent@jacobs-university.de>\n",
    "#   Davi Tavares <davi.tavares@leibniz-zmt.de>\n",
    "#   Agostino Merico <a.merico@jacobs-university.de>\n",
    "#\n",
    "# Main entry point for the application\n",
    "\n",
    "# ==============================================================================\n",
    "# START: Preamble\n",
    "# ==============================================================================\n",
    "\n",
    "# -*- coding: utf-8 -*-\n",
    "import config\n",
    "import constants as CONST\n",
    "from core import initialize, observe, update\n",
    "from helpers import plot_figure, make_gif\n",
    "\n",
    "# see http://stackoverflow.com/questions/1907993/autoreload-of-modules-in-ipython\n",
    "# reload external python modules\n",
    "%load_ext autoreload\n",
    "%autoreload 2\n",
    "%reload_ext autoreload\n",
    "\n",
    "\n",
    "# ==============================================================================\n",
    "# END: Preamble\n",
    "# ==============================================================================\n",
    "\n",
    "# ==============================================================================\n",
    "# START: Application\n",
    "# ==============================================================================\n",
    "\n",
    "# main entry point for the application\n",
    "# TODO: proper docs\n",
    "def application():\n",
    "    \n",
    "    # pre-conditions\n",
    "    config.init() # initialize internal config for the app\n",
    "    time = 0 # define stopwatch for the process\n",
    "    \n",
    "     # process for t times\n",
    "    print('=> START: Processing random movements based on prob dist')\n",
    "    habitats, agents = initialize()\n",
    "    observe(habitats, agents, time)\n",
    "    \n",
    "    for time in range(1, CONST.PROCESSING_TIME):\n",
    "        agents = update(habitats, agents, time) # override agents when being updated\n",
    "        observe(habitats, agents, time)\n",
    "    \n",
    "    print('=> END: Processing random movements based on prob dist')\n",
    "    \n",
    "    # post-conditions\n",
    "    make_gif(CONST.SAMPLE_DIR, 'image.gif', CONST.STORE['images'])\n",
    "    plot_figure()\n",
    "\n",
    "    \n",
    "# run application\n",
    "application()\n",
    "\n",
    "# ==============================================================================\n",
    "# END: Application\n",
    "# =============================================================================="
   ]
  },
  {
   "cell_type": "code",
   "execution_count": null,
   "metadata": {},
   "outputs": [],
   "source": []
  }
 ],
 "metadata": {
  "kernelspec": {
   "display_name": "Python 3",
   "language": "python",
   "name": "python3"
  },
  "language_info": {
   "codemirror_mode": {
    "name": "ipython",
    "version": 3
   },
   "file_extension": ".py",
   "mimetype": "text/x-python",
   "name": "python",
   "nbconvert_exporter": "python",
   "pygments_lexer": "ipython3",
   "version": "3.7.1"
  }
 },
 "nbformat": 4,
 "nbformat_minor": 2
}
