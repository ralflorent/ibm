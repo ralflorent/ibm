{
 "cells": [
  {
   "cell_type": "markdown",
   "metadata": {},
   "source": [
    "## Virtual Environment for Individual-Based Modeling\n",
    "\n",
    "### Advanced Project I\n",
    "\n",
    "Created on March 31, 2019 by Ralph Florent <r.florent@jacobs-university.de>\n",
    "\n",
    "#### Description\n",
    "WIP..."
   ]
  },
  {
   "cell_type": "code",
   "execution_count": 14,
   "metadata": {},
   "outputs": [
    {
     "data": {
      "image/png": "[encoded data removed]",
      "text/plain": [
       "<Figure size 792x468 with 1 Axes>"
      ]
     },
     "metadata": {
      "needs_background": "light"
     },
     "output_type": "display_data"
    },
    {
     "data": {
      "text/plain": [
       "<matplotlib.axes._subplots.AxesSubplot at 0x7f1ebcadab38>"
      ]
     },
     "execution_count": 14,
     "metadata": {},
     "output_type": "execute_result"
    }
   ],
   "source": [
    "\"\"\" Individual-Based Modeling \"\"\"\n",
    "\n",
    "# -*- coding: utf-8 -*-\n",
    "# \n",
    "# Created on March 31, 2019\n",
    "# Authors: \n",
    "#        Ralph Florent <r.florent@jacobs-university.de>\n",
    "\n",
    "### START: scripts\n",
    "\n",
    "# Import relevant libraries\n",
    "\n",
    "import numpy as np\n",
    "import matplotlib.pyplot as plt\n",
    "from matplotlib.collections import PatchCollection\n",
    "\n",
    "from matplotlib.path import Path\n",
    "import matplotlib.patches as Patches\n",
    "\n",
    "# Number of patches\n",
    "TOTAL_PATCHES = 2\n",
    "TOTAL_AGENTS = 100\n",
    "\n",
    "\n",
    "def create_patches(n=TOTAL_PATCHES, allow_overlap=True):\n",
    "    \"\"\" Create a set of patches within a specific area \n",
    "    ref: #https://matplotlib.org/users/path_tutorial.html\n",
    "    \"\"\"\n",
    "    global patches \n",
    "    patches = []\n",
    "    \n",
    "    verts = [\n",
    "        (0.2, 0.2), # left, bottom\n",
    "        (0.2, 0.4), # left, top\n",
    "        (0.4, 0.4), # right, top\n",
    "        (0.4, 0.2), # right, bottom\n",
    "        (0.2, 0.4), # ignored\n",
    "    ]\n",
    "    \n",
    "    codes = [\n",
    "        Path.MOVETO, # start designing here\n",
    "        Path.LINETO, # draw lines\n",
    "        Path.LINETO, # ~\n",
    "        Path.LINETO, # draw lines\n",
    "        Path.CLOSEPOLY,# finish here\n",
    "    ]\n",
    "    \n",
    "    path = Path(verts, codes)\n",
    "    patch = Patches.PathPatch(path, facecolor='b', alpha=0.5, lw=2)\n",
    "    patches.append(patch)\n",
    "    \n",
    "    return patches\n",
    "\n",
    "def is_in_patch(patch, point=()):\n",
    "    \"\"\" Check if a point belongs to a specific area (or patch)\"\"\"\n",
    "    path = patch.get_path()\n",
    "    return path.contains_point(point)\n",
    "\n",
    "\n",
    "def gen_random_point():\n",
    "    global patches\n",
    "    # initialize random point(x, y)\n",
    "    x, y = np.random.rand(2) # [0-1, 0-1]\n",
    "        \n",
    "    while True:\n",
    "        found = False\n",
    "        for p in patches:\n",
    "            if is_in_patch(p, (x, y)):\n",
    "                found = True\n",
    "        \n",
    "        if not found: break # ice breaker\n",
    "        \n",
    "        # update point(x, y)\n",
    "        x, y = np.random.rand(2)\n",
    "            \n",
    "    return (x, y)\n",
    "\n",
    "# On-the-fly agent definition\n",
    "class Agent:\n",
    "    pass\n",
    "\n",
    "# create agents\n",
    "def create_agents():\n",
    "    global agents\n",
    "    agents = []\n",
    "    \n",
    "    for i in range(TOTAL_AGENTS):\n",
    "        agent = Agent()\n",
    "        x, y = gen_random_point() # that is not in patch\n",
    "        agent.x = x\n",
    "        agent.y = y\n",
    "        agents.append(agent) # append (i.e. add) the ith agent into the array ’agents’\n",
    "    return agents\n",
    "\n",
    "        \n",
    "def plot_figure():\n",
    "    \"\"\" Create and plot figure \"\"\"\n",
    "    global patches\n",
    "    global agents\n",
    "   \n",
    "    fig = plt.figure(figsize=(11, 6.5))\n",
    "    ax  = fig.add_subplot(111)\n",
    "    \n",
    "    for p in patches:\n",
    "        ax.add_patch(p)\n",
    "    \n",
    "    ax.plot([ag.x for ag in agents], [ag.y for ag in agents], 'o', mfc='w', mec='k')\n",
    "    ax.set_xlim(0, 1)\n",
    "    ax.set_ylim(0, 1)\n",
    "    \n",
    "    plt.title('Virtual Environment', fontsize=15)\n",
    "    plt.show()\n",
    "    \n",
    "    return ax\n",
    "\n",
    "\n",
    "# Run test app\n",
    "create_patches()\n",
    "create_agents()\n",
    "plot_figure()\n",
    "### END: scripts"
   ]
  },
  {
   "cell_type": "code",
   "execution_count": null,
   "metadata": {},
   "outputs": [],
   "source": []
  }
 ],
 "metadata": {
  "kernelspec": {
   "display_name": "Python 3",
   "language": "python",
   "name": "python3"
  },
  "language_info": {
   "codemirror_mode": {
    "name": "ipython",
    "version": 3
   },
   "file_extension": ".py",
   "mimetype": "text/x-python",
   "name": "python",
   "nbconvert_exporter": "python",
   "pygments_lexer": "ipython3",
   "version": "3.7.1"
  }
 },
 "nbformat": 4,
 "nbformat_minor": 2
}
